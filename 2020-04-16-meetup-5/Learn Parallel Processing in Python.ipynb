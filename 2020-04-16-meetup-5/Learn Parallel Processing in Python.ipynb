{
 "cells": [
  {
   "cell_type": "markdown",
   "metadata": {},
   "source": [
    "# Learn Python Programming Meetup : Parallel Processing"
   ]
  },
  {
   "cell_type": "markdown",
   "metadata": {},
   "source": [
    "### Hosted by:\n",
    "Nishant Gandhi (DataRobot Inc)\n",
    "\n",
    "**Join Us:** <br>\n",
    "Slack: https://join.slack.com/t/learnpythonboston/shared_invite/zt-cvplmooz-rPBRaXBqh0xuXrGbeCwj~Q\n",
    "\n",
    "**Learn More:** <br>\n",
    "Github: https://github.com/Learn-Python-Programming-Meetup/workshop-content-archive <br>\n",
    "Meetup: https://www.meetup.com/Learn-Python-Programming"
   ]
  },
  {
   "cell_type": "markdown",
   "metadata": {},
   "source": [
    "### Topics in this Notebook:\n",
    "\n",
    "+ Overview of Parallel Processing in Python\n",
    "+ multiprocessing\n",
    "+ multiprocessing: Inter-Process Communication\n",
    "+ Usecase: Building Machine Learning Model in Parallel\n"
   ]
  },
  {
   "cell_type": "markdown",
   "metadata": {},
   "source": [
    "## Overview for Parallel Processing in Python"
   ]
  },
  {
   "cell_type": "markdown",
   "metadata": {},
   "source": [
    "+ **Why Parallel Processing**\n",
    "+ **Process vs Thread**"
   ]
  },
  {
   "cell_type": "markdown",
   "metadata": {},
   "source": [
    "### Category of Parallel Processing\n",
    "\n",
    "+ Thread Based\n",
    "+ Process Based\n",
    "+ Distributed Processing Based\n",
    "+ Concurrecy Based (Async)\n",
    "\n",
    "We will be focusing on **Process Based** parallel computing in Python."
   ]
  },
  {
   "cell_type": "code",
   "execution_count": 107,
   "metadata": {},
   "outputs": [],
   "source": [
    "import multiprocessing\n",
    "import os\n",
    "\n",
    "from multiprocessing import Process, Pool"
   ]
  },
  {
   "cell_type": "code",
   "execution_count": 108,
   "metadata": {},
   "outputs": [
    {
     "name": "stdout",
     "output_type": "stream",
     "text": [
      "Number of cpu :  8\n",
      "Main PID :  56143\n"
     ]
    }
   ],
   "source": [
    "print(\"Number of cpu : \", multiprocessing.cpu_count())\n",
    "print(\"Main PID : \", os.getpid())"
   ]
  },
  {
   "cell_type": "markdown",
   "metadata": {},
   "source": [
    "### multiprocessing.Process Module"
   ]
  },
  {
   "cell_type": "code",
   "execution_count": 109,
   "metadata": {},
   "outputs": [],
   "source": [
    "def f(x):\n",
    "    result = x*x\n",
    "    print(\"Patent PID, Current PID, Result: \", os.getppid(), os.getpid(), result)\n",
    "    return result"
   ]
  },
  {
   "cell_type": "code",
   "execution_count": 110,
   "metadata": {},
   "outputs": [
    {
     "name": "stdout",
     "output_type": "stream",
     "text": [
      "Patent PID, Current PID, Result:  56143 65103 4\n",
      "Patent PID, Current PID, Result:  56143 65104 9\n",
      "Patent PID, Current PID, Result:  56143 65105 16\n",
      "0.0\n"
     ]
    }
   ],
   "source": [
    "if __name__ == '__main__':\n",
    "    result = 0.0\n",
    "    for num in range(2,5):\n",
    "        p = Process(target=f, args=(num,))\n",
    "        p.start()\n",
    "        p.join()\n",
    "    print(result)"
   ]
  },
  {
   "cell_type": "markdown",
   "metadata": {},
   "source": [
    "### Interprocess Communication\n",
    "\n",
    "+ Shared Memory\n",
    "+ Message Passing"
   ]
  },
  {
   "cell_type": "markdown",
   "metadata": {},
   "source": [
    "#### Interprocess Communication: Shared Memory"
   ]
  },
  {
   "cell_type": "markdown",
   "metadata": {},
   "source": [
    "##### Shared ctype Objects"
   ]
  },
  {
   "cell_type": "code",
   "execution_count": 111,
   "metadata": {},
   "outputs": [],
   "source": [
    "from multiprocessing import Process, Value, Array"
   ]
  },
  {
   "cell_type": "code",
   "execution_count": 112,
   "metadata": {},
   "outputs": [
    {
     "name": "stdout",
     "output_type": "stream",
     "text": [
      "0.0\n",
      "[0, 1, 2, 3, 4, 5, 6, 7, 8, 9]\n",
      "Patent PID, Current PID: 56143 65110\n",
      "Patent PID, Current PID: 56143 65111\n",
      "2.0\n",
      "[5, 6, 7, 8, 9, 10, 11, 12, 13, 14]\n"
     ]
    }
   ],
   "source": [
    "def f(n, a):\n",
    "    print(\"Patent PID, Current PID:\", os.getppid(), os.getpid())\n",
    "    n.value = 3.1415927\n",
    "    for i in range(len(a)):\n",
    "        a[i] = a[i] + 1\n",
    "\n",
    "def f1(n, a):\n",
    "    print(\"Patent PID, Current PID:\", os.getppid(), os.getpid())\n",
    "    n.value = 2\n",
    "    for i in range(len(a)):\n",
    "        a[i] = a[i] + 4\n",
    "        \n",
    "if __name__ == '__main__':\n",
    "    # creating shared variables\n",
    "    num = Value('d', 0.0)\n",
    "    arr = Array('i', range(10))\n",
    "    \n",
    "    print(num.value)\n",
    "    print(arr[:])\n",
    "\n",
    "    p = Process(target=f, args=(num, arr))\n",
    "    p1 = Process(target=f1, args=(num, arr))\n",
    "    \n",
    "    p.start()\n",
    "    p1.start()\n",
    "    \n",
    "    p.join()\n",
    "    p1.join()\n",
    "\n",
    "    print(num.value)\n",
    "    print(arr[:])"
   ]
  },
  {
   "cell_type": "markdown",
   "metadata": {},
   "source": [
    "##### Server Process"
   ]
  },
  {
   "cell_type": "code",
   "execution_count": 113,
   "metadata": {},
   "outputs": [
    {
     "name": "stdout",
     "output_type": "stream",
     "text": [
      "{1: '1', '2': 2, 0.25: None}\n",
      "[9, 8, 7, 6, 5, 4, 3, 2, 1, 0]\n"
     ]
    }
   ],
   "source": [
    "from multiprocessing import Process, Manager\n",
    "\n",
    "def f(d, l):\n",
    "    d[1] = '1'\n",
    "    d['2'] = 2\n",
    "    d[0.25] = None\n",
    "    l.reverse()\n",
    "\n",
    "if __name__ == '__main__':\n",
    "    with Manager() as manager:\n",
    "        d = manager.dict()\n",
    "        l = manager.list(range(10))\n",
    "\n",
    "        p = Process(target=f, args=(d, l))\n",
    "        p.start()\n",
    "        p.join()\n",
    "\n",
    "        print(d)\n",
    "        print(l)"
   ]
  },
  {
   "cell_type": "markdown",
   "metadata": {},
   "source": [
    "#### Interprocess Communication: Message Passing"
   ]
  },
  {
   "cell_type": "markdown",
   "metadata": {},
   "source": [
    "##### Queues"
   ]
  },
  {
   "cell_type": "code",
   "execution_count": 114,
   "metadata": {},
   "outputs": [
    {
     "name": "stdout",
     "output_type": "stream",
     "text": [
      "[42, None, 'hello']\n"
     ]
    }
   ],
   "source": [
    "from multiprocessing import Process, Queue\n",
    "\n",
    "def f(q):\n",
    "    q.put([42, None, 'hello'])\n",
    "\n",
    "if __name__ == '__main__':\n",
    "    q = Queue()\n",
    "    p = Process(target=f, args=(q,))\n",
    "    p.start()\n",
    "    print(q.get())    # prints \"[42, None, 'hello']\"\n",
    "    p.join()"
   ]
  },
  {
   "cell_type": "markdown",
   "metadata": {},
   "source": [
    "##### Pipes"
   ]
  },
  {
   "cell_type": "code",
   "execution_count": 115,
   "metadata": {},
   "outputs": [
    {
     "name": "stdout",
     "output_type": "stream",
     "text": [
      "[42, None, 'hello']\n"
     ]
    }
   ],
   "source": [
    "from multiprocessing import Process, Pipe\n",
    "\n",
    "def f(conn):\n",
    "    conn.send([42, None, 'hello'])\n",
    "    conn.close()\n",
    "\n",
    "if __name__ == '__main__':\n",
    "    parent_conn, child_conn = Pipe()\n",
    "    p = Process(target=f, args=(child_conn,))\n",
    "    p.start()\n",
    "    print(parent_conn.recv())   # prints \"[42, None, 'hello']\"\n",
    "    p.join()"
   ]
  },
  {
   "cell_type": "markdown",
   "metadata": {},
   "source": [
    "### multiprocessing.Pool Module"
   ]
  },
  {
   "cell_type": "code",
   "execution_count": 116,
   "metadata": {},
   "outputs": [],
   "source": [
    "def f(x):\n",
    "    print(\"Patent PID, Current PID: \", os.getppid(), os.getpid())\n",
    "    time.sleep(3)\n",
    "    return x*x"
   ]
  },
  {
   "cell_type": "code",
   "execution_count": 117,
   "metadata": {},
   "outputs": [
    {
     "name": "stdout",
     "output_type": "stream",
     "text": [
      "Patent PID, Current PID:  56143 65130\n",
      "Patent PID, Current PID:  56143 65131\n",
      "Done-1\n",
      "Patent PID, Current PID:  56143 65132\n",
      "Done-2\n",
      "Done-3\n",
      "1\n",
      "4\n",
      "9\n"
     ]
    }
   ],
   "source": [
    "if __name__ == '__main__':\n",
    "    with Pool(5) as p:\n",
    "        result1 = p.apply(f, [1])\n",
    "        print(\"Done-1\")\n",
    "        result2 = p.apply(f, [2])\n",
    "        print(\"Done-2\")\n",
    "        result3 = p.apply(f, [3])\n",
    "        print(\"Done-3\")\n",
    "        print(result1)\n",
    "        print(result2)\n",
    "        print(result3)"
   ]
  },
  {
   "cell_type": "code",
   "execution_count": 118,
   "metadata": {},
   "outputs": [
    {
     "name": "stdout",
     "output_type": "stream",
     "text": [
      "Patent PID, Current PID:  56143 65166\n",
      "Patent PID, Current PID:  56143 65164\n",
      "Patent PID, Current PID:  56143 65165\n",
      "Done-1\n",
      "Done-2\n",
      "Done-3\n",
      "1\n",
      "4\n",
      "9\n"
     ]
    }
   ],
   "source": [
    "if __name__ == '__main__':\n",
    "    with Pool(5) as p:\n",
    "        result1 = p.apply_async(f, [1])\n",
    "        print(\"Done-1\")\n",
    "        result2 = p.apply_async(f, [2])\n",
    "        print(\"Done-2\")\n",
    "        result3 = p.apply_async(f, [3])\n",
    "        print(\"Done-3\")\n",
    "        print(result1.get(timeout=4))\n",
    "        print(result2.get(timeout=4))\n",
    "        print(result3.get(timeout=4))"
   ]
  },
  {
   "cell_type": "code",
   "execution_count": 119,
   "metadata": {},
   "outputs": [
    {
     "name": "stdout",
     "output_type": "stream",
     "text": [
      "Patent PID, Current PID:  56143 65181\n",
      "Patent PID, Current PID:  56143 65180\n",
      "Patent PID, Current PID:  56143 65182\n",
      "Patent PID, Current PID:  56143 65180\n",
      "Patent PID, Current PID:  56143 65184\n",
      "Patent PID, Current PID:  56143 65183\n",
      "[1, 4, 9]\n",
      "Done-1\n",
      "Patent PID, Current PID:  56143 65182\n",
      "Patent PID, Current PID:  56143 65180\n",
      "Patent PID, Current PID:  56143 65181\n",
      "[1, 4, 9]\n",
      "Done-2\n",
      "[9, 4, 1]\n",
      "Done-3\n"
     ]
    }
   ],
   "source": [
    "if __name__ == '__main__':\n",
    "    with Pool(5) as p:\n",
    "        print(p.map(f, [1, 2, 3]))\n",
    "        print(\"Done-1\")\n",
    "        print(list(p.imap(f, [1, 2, 3])))\n",
    "        print(\"Done-2\")\n",
    "        print(list(p.imap_unordered(f, [1, 2, 3])))\n",
    "        print(\"Done-3\")"
   ]
  },
  {
   "cell_type": "markdown",
   "metadata": {},
   "source": [
    "### Ref:\n",
    "+ https://towardsdatascience.com/using-pythons-multiprocessing-module-to-evaluate-a-set-of-algorithms-efficiently-1412d29ff849\n",
    "+ https://docs.python.org/3/library/multiprocessing.html"
   ]
  }
 ],
 "metadata": {
  "kernelspec": {
   "display_name": "Python 3",
   "language": "python",
   "name": "python3"
  },
  "language_info": {
   "codemirror_mode": {
    "name": "ipython",
    "version": 3
   },
   "file_extension": ".py",
   "mimetype": "text/x-python",
   "name": "python",
   "nbconvert_exporter": "python",
   "pygments_lexer": "ipython3",
   "version": "3.7.4"
  }
 },
 "nbformat": 4,
 "nbformat_minor": 2
}
