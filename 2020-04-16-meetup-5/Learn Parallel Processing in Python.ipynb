{
 "cells": [
  {
   "cell_type": "markdown",
   "metadata": {},
   "source": [
    "# Learn Python Programming Meetup : Parallel Processing"
   ]
  },
  {
   "cell_type": "markdown",
   "metadata": {},
   "source": [
    "### Hosted by:\n",
    "Nishant Gandhi (DataRobot Inc)\n",
    "\n",
    "**Join Us:** <br>\n",
    "Slack: https://join.slack.com/t/learnpythonboston/shared_invite/zt-cvplmooz-rPBRaXBqh0xuXrGbeCwj~Q\n",
    "\n",
    "**Learn More:** <br>\n",
    "Github: https://github.com/Learn-Python-Programming-Meetup/workshop-content-archive <br>\n",
    "Meetup: https://www.meetup.com/Learn-Python-Programming"
   ]
  },
  {
   "cell_type": "markdown",
   "metadata": {},
   "source": [
    "## Topics in this Notebook:\n",
    "\n",
    "+ Overview of Parallel Processing in Python\n",
    "+ multiprocessing\n",
    "+ multiprocessing: Programming guidelines\n",
    "+ Usecase: Building Machine Learning Model in Parallel"
   ]
  },
  {
   "cell_type": "markdown",
   "metadata": {},
   "source": [
    "Ref:\n",
    "+ https://towardsdatascience.com/using-pythons-multiprocessing-module-to-evaluate-a-set-of-algorithms-efficiently-1412d29ff849"
   ]
  },
  {
   "cell_type": "code",
   "execution_count": null,
   "metadata": {},
   "outputs": [],
   "source": []
  }
 ],
 "metadata": {
  "kernelspec": {
   "display_name": "Python 3",
   "language": "python",
   "name": "python3"
  },
  "language_info": {
   "codemirror_mode": {
    "name": "ipython",
    "version": 3
   },
   "file_extension": ".py",
   "mimetype": "text/x-python",
   "name": "python",
   "nbconvert_exporter": "python",
   "pygments_lexer": "ipython3",
   "version": "3.7.4"
  }
 },
 "nbformat": 4,
 "nbformat_minor": 2
}
